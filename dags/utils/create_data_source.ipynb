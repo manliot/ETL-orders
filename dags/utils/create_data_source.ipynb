{
 "cells": [
  {
   "cell_type": "code",
   "execution_count": 12,
   "metadata": {},
   "outputs": [],
   "source": [
    "import random\n",
    "from faker import Faker\n",
    "import faker_commerce\n",
    "import pandas as pd\n",
    "import numpy as np\n",
    "from random_date import random_date_betw"
   ]
  },
  {
   "cell_type": "code",
   "execution_count": 13,
   "metadata": {},
   "outputs": [],
   "source": [
    "# create faker instance\n",
    "fake = Faker()\n",
    "fake.add_provider(faker_commerce.Provider)"
   ]
  },
  {
   "cell_type": "markdown",
   "metadata": {},
   "source": [
    "## Create orders dataset"
   ]
  },
  {
   "cell_type": "code",
   "execution_count": 15,
   "metadata": {},
   "outputs": [
    {
     "ename": "NameError",
     "evalue": "name 'random' is not defined",
     "output_type": "error",
     "traceback": [
      "\u001b[0;31m---------------------------------------------------------------------------\u001b[0m",
      "\u001b[0;31mNameError\u001b[0m                                 Traceback (most recent call last)",
      "Cell \u001b[0;32mIn[15], line 6\u001b[0m\n\u001b[1;32m      1\u001b[0m orders_df \u001b[38;5;241m=\u001b[39m pd\u001b[38;5;241m.\u001b[39mDataFrame(columns\u001b[38;5;241m=\u001b[39m[\u001b[38;5;124m\"\u001b[39m\u001b[38;5;124mFecha\u001b[39m\u001b[38;5;124m\"\u001b[39m, \u001b[38;5;124m\"\u001b[39m\u001b[38;5;124mProduct_ID\u001b[39m\u001b[38;5;124m\"\u001b[39m, \u001b[38;5;124m\"\u001b[39m\u001b[38;5;124mUser_ID\u001b[39m\u001b[38;5;124m\"\u001b[39m])\n\u001b[1;32m      3\u001b[0m \u001b[38;5;28;01mfor\u001b[39;00m i \u001b[38;5;129;01min\u001b[39;00m \u001b[38;5;28mrange\u001b[39m(\u001b[38;5;241m2000\u001b[39m):\n\u001b[1;32m      4\u001b[0m     orders_df \u001b[38;5;241m=\u001b[39m pd\u001b[38;5;241m.\u001b[39mconcat([orders_df, pd\u001b[38;5;241m.\u001b[39mDataFrame(\n\u001b[1;32m      5\u001b[0m         [{\n\u001b[0;32m----> 6\u001b[0m             \u001b[38;5;124m\"\u001b[39m\u001b[38;5;124mFecha\u001b[39m\u001b[38;5;124m\"\u001b[39m: \u001b[43mrandom_date_betw\u001b[49m\u001b[43m(\u001b[49m\u001b[38;5;124;43m\"\u001b[39;49m\u001b[38;5;124;43m2024-04-01\u001b[39;49m\u001b[38;5;124;43m\"\u001b[39;49m\u001b[43m,\u001b[49m\u001b[43m \u001b[49m\u001b[38;5;124;43m\"\u001b[39;49m\u001b[38;5;124;43m2024-04-07\u001b[39;49m\u001b[38;5;124;43m\"\u001b[39;49m\u001b[43m)\u001b[49m,\n\u001b[1;32m      7\u001b[0m             \u001b[38;5;124m\"\u001b[39m\u001b[38;5;124mProduct_ID\u001b[39m\u001b[38;5;124m\"\u001b[39m: random\u001b[38;5;241m.\u001b[39mrandint(\u001b[38;5;241m1\u001b[39m, \u001b[38;5;241m10\u001b[39m),\n\u001b[1;32m      8\u001b[0m             \u001b[38;5;124m\"\u001b[39m\u001b[38;5;124mUser_ID\u001b[39m\u001b[38;5;124m\"\u001b[39m: random\u001b[38;5;241m.\u001b[39mrandint(\u001b[38;5;241m1\u001b[39m, \u001b[38;5;241m100\u001b[39m),\n\u001b[1;32m      9\u001b[0m         }]),], ignore_index\u001b[38;5;241m=\u001b[39m\u001b[38;5;28;01mTrue\u001b[39;00m)\n\u001b[1;32m     11\u001b[0m orders_df\u001b[38;5;241m.\u001b[39mto_csv(\u001b[38;5;124m\"\u001b[39m\u001b[38;5;124m/outputFiles/orders.csv\u001b[39m\u001b[38;5;124m\"\u001b[39m, index\u001b[38;5;241m=\u001b[39m\u001b[38;5;28;01mFalse\u001b[39;00m)\n\u001b[1;32m     12\u001b[0m orders_df\u001b[38;5;241m.\u001b[39mhead()\n",
      "File \u001b[0;32m~/airflow/dags/utils/random_date.py:10\u001b[0m, in \u001b[0;36mrandom_date_betw\u001b[0;34m(initial_date, final_date)\u001b[0m\n\u001b[1;32m      7\u001b[0m diff \u001b[38;5;241m=\u001b[39m end \u001b[38;5;241m-\u001b[39m start\n\u001b[1;32m      9\u001b[0m diff_days \u001b[38;5;241m=\u001b[39m diff\u001b[38;5;241m.\u001b[39mdays\n\u001b[0;32m---> 10\u001b[0m random_days \u001b[38;5;241m=\u001b[39m \u001b[43mrandom\u001b[49m\u001b[38;5;241m.\u001b[39mrandint(\u001b[38;5;241m0\u001b[39m, diff_days)\n\u001b[1;32m     12\u001b[0m random_date \u001b[38;5;241m=\u001b[39m start \u001b[38;5;241m+\u001b[39m timedelta(days\u001b[38;5;241m=\u001b[39mrandom_days)\n\u001b[1;32m     14\u001b[0m \u001b[38;5;28;01mreturn\u001b[39;00m random_date\n",
      "\u001b[0;31mNameError\u001b[0m: name 'random' is not defined"
     ]
    }
   ],
   "source": [
    "orders_df = pd.DataFrame(columns=[\"Fecha\", \"Product_ID\", \"User_ID\"])\n",
    "\n",
    "for i in range(2000):\n",
    "    orders_df = pd.concat([orders_df, pd.DataFrame(\n",
    "        [{\n",
    "            \"Fecha\": random_date_betw(\"2024-04-01\", \"2024-04-07\"),\n",
    "            \"Product_ID\": random.randint(1, 10),\n",
    "            \"User_ID\": random.randint(1, 100),\n",
    "        }]),], ignore_index=True)\n",
    "\n",
    "orders_df.to_csv(\"/outputFiles/orders.csv\", index=False)\n",
    "orders_df.head()"
   ]
  },
  {
   "cell_type": "markdown",
   "metadata": {},
   "source": [
    "## Create product dataset"
   ]
  },
  {
   "cell_type": "code",
   "execution_count": null,
   "metadata": {},
   "outputs": [],
   "source": [
    "products_df = pd.DataFrame(columns=[\"Id\", \"Name\", \"Category\", \"Price\"])\n",
    "\n",
    "for i in range(2, 9):\n",
    "    products_df = pd.concat([products_df, pd.DataFrame(\n",
    "        [{\n",
    "            \"Id\": i,\n",
    "            \"Name\": fake.ecommerce_name(),\n",
    "            \"Category\": fake.ecommerce_category(),\n",
    "            \"Price\": random.randint(1000, 100000),\n",
    "        }])],  ignore_index=True)\n",
    "\n",
    "products_df.to_excel(\"/outputFiles/products.xlsx\", index=False)\n",
    "products_df.head()"
   ]
  },
  {
   "cell_type": "markdown",
   "metadata": {},
   "source": [
    "## Create user dataset"
   ]
  },
  {
   "cell_type": "code",
   "execution_count": null,
   "metadata": {},
   "outputs": [],
   "source": [
    "user_df = pd.DataFrame(columns=['Id', 'Document'])\n",
    "\n",
    "i = 1\n",
    "for document in range(300000, 300300):\n",
    "    user_df = pd.concat([user_df, pd.DataFrame(\n",
    "        [{\n",
    "            'Id': i,\n",
    "            'Document': document,\n",
    "        }])], ignore_index=True)\n",
    "    i += 1\n",
    "\n",
    "user_df.to_csv('/outputFiles/users.csv', index=False)\n",
    "user_df.head()"
   ]
  },
  {
   "cell_type": "markdown",
   "metadata": {},
   "source": [
    "## Create user info dataset"
   ]
  },
  {
   "cell_type": "code",
   "execution_count": null,
   "metadata": {},
   "outputs": [],
   "source": [
    "info_users_df = pd.DataFrame(\n",
    "    columns=['Document', 'Name', 'BirthDay', 'Gender', 'Email', 'Phone'])\n",
    "\n",
    "for document in range(300000, 300500):\n",
    "    gender = np.random.choice([\"M\", \"F\", \"Male\", \"f\", \"Other\"])\n",
    "    info_users_df = pd.concat([info_users_df, pd.DataFrame(\n",
    "        [{\n",
    "            'Document': document,\n",
    "            'Name': fake.first_name()+' '+fake.last_name(),\n",
    "            'BirthDay': random_date_betw('1964-01-01', '2006-12-12'),\n",
    "            'Gender': gender,\n",
    "            'Email': fake.email(),\n",
    "            'Phone': fake.phone_number()\n",
    "        }])], ignore_index=True)\n",
    "\n",
    "info_users_df.to_csv('/outputFiles/info_users_df.csv', index=False)\n",
    "info_users_df.head()"
   ]
  }
 ],
 "metadata": {
  "kernelspec": {
   "display_name": "Python 3",
   "language": "python",
   "name": "python3"
  },
  "language_info": {
   "codemirror_mode": {
    "name": "ipython",
    "version": 3
   },
   "file_extension": ".py",
   "mimetype": "text/x-python",
   "name": "python",
   "nbconvert_exporter": "python",
   "pygments_lexer": "ipython3",
   "version": "3.10.12"
  }
 },
 "nbformat": 4,
 "nbformat_minor": 2
}
